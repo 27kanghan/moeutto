{
 "cells": [
  {
   "cell_type": "markdown",
   "source": [
    "## 크롤링 코드\n",
    "- 데이터 수집에서 변경사항이 있을 경우 lxml 데이터를 확인하기 용이한 ipynb 파일입니다\n",
    "- 파이썬은 인터프리터 언어기 때문에 빌드를 하지 않아도 라인별로 실행이 가능합니다\n",
    "- shift + enter -> 라인 실행"
   ],
   "metadata": {
    "collapsed": false
   },
   "id": "c72a590618d968e0"
  },
  {
   "cell_type": "code",
   "execution_count": 1,
   "outputs": [],
   "source": [
    "import multiprocessing\n",
    "import time\n",
    "import pandas as pd\n",
    "from bs4 import BeautifulSoup\n",
    "import requests\n",
    "import re"
   ],
   "metadata": {
    "collapsed": false,
    "ExecuteTime": {
     "end_time": "2023-10-18T06:10:05.363609900Z",
     "start_time": "2023-10-18T06:10:04.689382400Z"
    }
   },
   "id": "c8285b25e0b7db0d"
  },
  {
   "cell_type": "code",
   "execution_count": 2,
   "outputs": [],
   "source": [
    "manager = multiprocessing.Manager()\n",
    "title_list = manager.list()\n",
    "url_list = manager.list()\n",
    "category_list = manager.list()\n",
    "price_list = manager.list()\n",
    "# 성별 추가\n",
    "sex_list = manager.list()"
   ],
   "metadata": {
    "collapsed": false,
    "ExecuteTime": {
     "end_time": "2023-10-18T06:10:15.005357800Z",
     "start_time": "2023-10-18T06:10:14.778521Z"
    }
   },
   "id": "939b8b6a8b18c4a5"
  },
  {
   "cell_type": "code",
   "execution_count": null,
   "outputs": [],
   "source": [
    "def crawl(start, title_list, url_list, category_list, price_list, gender_list):\n",
    "    print(start, \" start\")\n",
    "\n",
    "    url = ('https://www.musinsa.com/brands/musinsastandard?category3DepthCodes=&category2DepthCodes'\n",
    "           '=&category1DepthCode=&colorCodes=&startPrice=&endPrice=&exclusiveYn=&includeSoldOut=&saleGoods'\n",
    "           '=&timeSale=&includeKeywords=&sortCode=emt_high&tags=&page={'\n",
    "           '}&size=90&listViewType=small&campaignCode=&groupSale=&outletGoods=false&boutiqueGoods=').format(\n",
    "        start)\n",
    "    response = requests.get(url)\n",
    "    soup = BeautifulSoup(response.text, 'lxml')\n",
    "\n",
    "    for img in soup.find_all('a', attrs={'class': 'img-block'}):\n",
    "        goods_num = img['href'].split('/')[-1]\n",
    "\n",
    "        goods_url = 'https://www.musinsa.com/app/goods/{}'.format(goods_num)\n",
    "        goods_response = requests.get(goods_url, headers={\"User-Agent\": \"Chrome/39.0.2171.95\"})\n",
    "        goods_soup = BeautifulSoup(goods_response.text, 'lxml')\n",
    "\n",
    "        category = goods_soup.find_all('p', attrs={'class': 'item_categories'})[0] # 대분류 이름\n",
    "        category_detail = category.get_text().replace(' ', '').replace('\\n', '').replace('(무신사스탠다드)', '').split('>') # 중분류 이름\n",
    "\n",
    "        if(len(category.select('a')) <= 2):\n",
    "            continue\n",
    "\n",
    "        category_top = str(category.select('a')[0]).split('\"')[1].split('/')[-1] # 대분류 번호\n",
    "        category_bottom = str(category.select('a')[1]).split('\"')[1].split('/')[-1] # 중분류 번호\n",
    "\n",
    "        title_list.append(img['title'])\n",
    "        url_list.append('https:' + img['href'])\n",
    "        category_info = [category_detail[0], category_detail[1], category_top, category_bottom]\n",
    "        category_list.append(category_info)\n",
    "# class\n",
    "        price = goods_soup.find_all('span', attrs={'class': 'product_article_price'})[0] # 가격 정보\n",
    "        price_list.append(re.sub(r'[^0-9]', '', price.get_text().split()[-1]))\n",
    "# 수정 필요 : 성별 추가\n",
    "        gender = goods_soup.find_all('span', attrs={'class': 'txt_gender'})[0] # 성별 정보\n",
    "        gender_list.append(gender.get_text())\n",
    "    # for article in soup.find_all('div', attrs={'class': 'article_info'}):\n",
    "    #     price = article.find_all('p', attrs={'class': 'price'})\n",
    "    #     price_list.append(re.sub(r'[^0-9]', '', price[0].get_text().split()[-1]))\n",
    "\n",
    "    print(start, \" finish\")\n",
    "\n",
    "    return"
   ],
   "metadata": {
    "collapsed": false
   },
   "id": "52ab6b375b0706f7"
  },
  {
   "cell_type": "code",
   "execution_count": null,
   "outputs": [],
   "source": [
    "# 수행 시간을 단축시키기 위한 멀티 프로세싱 \n",
    "pool = multiprocessing.Pool(processes=8)\n",
    "pool.starmap(crawl, [(start + 1, title_list, url_list, category_list, price_list,sex_list) for start in range(20)])\n",
    "pool.close()\n",
    "pool.join()"
   ],
   "metadata": {
    "collapsed": false
   },
   "id": "3b0d2c0587ddffd5"
  },
  {
   "cell_type": "code",
   "execution_count": null,
   "outputs": [],
   "source": [
    "title_list = list(title_list)\n",
    "price_list = list(price_list)\n",
    "url_list = list(url_list)\n",
    "# 성별 리스트 추가\n",
    "gender_list = list(gender_list)"
   ],
   "metadata": {
    "collapsed": false
   },
   "id": "a29f66efa3da5ba1"
  },
  {
   "cell_type": "code",
   "execution_count": null,
   "outputs": [],
   "source": [
    "large_category_name = [sublist[0] for sublist in category_list]\n",
    "middle_category_name = [sublist[1] for sublist in category_list]\n",
    "large_category_num = [sublist[2] for sublist in category_list]\n",
    "middle_category_num = [sublist[3] for sublist in category_list]"
   ],
   "metadata": {
    "collapsed": false
   },
   "id": "726098f3a729abd4"
  },
  {
   "cell_type": "code",
   "execution_count": null,
   "outputs": [],
   "source": [
    "df = pd.DataFrame({'상품명': title_list, 'url': url_list, '가격': price_list, '성별': gender_list,\n",
    "                    '대분류 이름': large_category_name, '중분류 이름': middle_category_name,\n",
    "                    '대분류 번호': large_category_num, '중분류 번호': middle_category_num})\n",
    "df.to_csv('무신사.csv', encoding='utf-8-sig')"
   ],
   "metadata": {
    "collapsed": false
   },
   "id": "822e3e1b227906b1"
  }
 ],
 "metadata": {
  "kernelspec": {
   "display_name": "Python 3",
   "language": "python",
   "name": "python3"
  },
  "language_info": {
   "codemirror_mode": {
    "name": "ipython",
    "version": 2
   },
   "file_extension": ".py",
   "mimetype": "text/x-python",
   "name": "python",
   "nbconvert_exporter": "python",
   "pygments_lexer": "ipython2",
   "version": "2.7.6"
  }
 },
 "nbformat": 4,
 "nbformat_minor": 5
}
