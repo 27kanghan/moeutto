{
 "cells": [
  {
   "cell_type": "code",
   "execution_count": 10,
   "id": "initial_id",
   "metadata": {
    "collapsed": true,
    "ExecuteTime": {
     "end_time": "2023-11-14T08:43:01.006992300Z",
     "start_time": "2023-11-14T08:43:00.991323900Z"
    }
   },
   "outputs": [],
   "source": [
    "import time\n",
    "import pandas as pd\n",
    "from bs4 import BeautifulSoup\n",
    "import requests\n",
    "import re\n",
    "from PIL import Image\n",
    "from io import BytesIO\n"
   ]
  },
  {
   "cell_type": "markdown",
   "source": [],
   "metadata": {
    "collapsed": false
   },
   "id": "6f081c5a85a586b5"
  },
  {
   "cell_type": "code",
   "execution_count": null,
   "outputs": [],
   "source": [
    "import faiss\n",
    "from transformers import CLIPProcessor, CLIPModel"
   ],
   "metadata": {
    "collapsed": false
   },
   "id": "f09aeab1f2bce60b"
  },
  {
   "cell_type": "code",
   "execution_count": 11,
   "outputs": [],
   "source": [
    "def origin_run(goods_soup,img):\n",
    "        # 카테고리\n",
    "        category = goods_soup.find_all('p', attrs={'class': 'item_categories'})[0] # 대분류 이름\n",
    "        category_detail = category.get_text().replace(' ', '').replace('\\n', '').replace('(무신사스탠다드)', '').split('>') # 중분류 이름\n",
    "        if(len(category.select('a')) <= 2):\n",
    "            # continue\n",
    "            return\n",
    "\n",
    "        # 타이틀\n",
    "        title_list.append(img['title'])\n",
    "        url_list.append('https:' + img['href'])\n",
    "        # class\n",
    "        price = goods_soup.find_all('span', attrs={'class': 'product_article_price'})[0] # 가격 정보\n",
    "        price_list.append(re.sub(r'[^0-9]', '', price.get_text().split()[-1]))\n",
    "        \n",
    "        # 이미지 URL 추출\n",
    "        image_src = img.get('src')\n",
    "        if not image_src.startswith('http:'):\n",
    "            image_src = 'https:' + image_src\n",
    "        \n",
    "        # 이미지 다운로드\n",
    "        response = requests.get(image_src)\n",
    "        image = Image.open(BytesIO(response.content))\n",
    "        display(image)\n",
    "        # 이미지 잘 찍히는지 확인하고\n",
    "        \n",
    "        \n",
    "        # 잘 찍히면 이미지 -> fashion clip으로 txt로 변환하고\n",
    "        \n",
    "        \n",
    "        # txt-> 전체 저장소에 임베딩 faiss\n",
    "\n",
    "    \n",
    "        print(start, \" finish\")"
   ],
   "metadata": {
    "collapsed": false,
    "ExecuteTime": {
     "end_time": "2023-11-14T08:43:03.127417200Z",
     "start_time": "2023-11-14T08:43:03.120453400Z"
    }
   },
   "id": "3ea29472811df5ec"
  },
  {
   "cell_type": "code",
   "execution_count": 12,
   "outputs": [],
   "source": [
    "# def crawl(start, title_list, url_list, category_list, price_list, gender_list):\n",
    "#전역\n",
    "def crawl(start):\n",
    "    print(start, \" start\")\n",
    "\n",
    "    url = ('https://www.musinsa.com/brands/musinsastandard?category3DepthCodes=&category2DepthCodes'\n",
    "           '=&category1DepthCode=&colorCodes=&startPrice=&endPrice=&exclusiveYn=&includeSoldOut=&saleGoods'\n",
    "           '=&timeSale=&includeKeywords=&sortCode=emt_high&tags=&page={'\n",
    "           '}&size=90&listViewType=small&campaignCode=&groupSale=&outletGoods=false&boutiqueGoods=').format(\n",
    "        start)\n",
    "    response = requests.get(url)\n",
    "    soup = BeautifulSoup(response.text, 'lxml')\n",
    "\n",
    "    for img in soup.find_all('a', attrs={'class': 'img-block'}):\n",
    "        goods_num = img['href'].split('/')[-1]\n",
    "\n",
    "        goods_url = 'https://www.musinsa.com/app/goods/{}'.format(goods_num)\n",
    "        goods_response = requests.get(goods_url, headers={\"User-Agent\": \"Chrome/39.0.2171.95\"})\n",
    "        goods_soup = BeautifulSoup(goods_response.text, 'lxml')\n",
    "\n",
    "        # 상세 페이지 분류 시작\n",
    "        origin_run(goods_soup,img)\n",
    "        \n",
    "    return\n"
   ],
   "metadata": {
    "collapsed": false,
    "ExecuteTime": {
     "end_time": "2023-11-14T08:43:07.137301100Z",
     "start_time": "2023-11-14T08:43:07.120093700Z"
    }
   },
   "id": "ba24b9761775d3da"
  },
  {
   "cell_type": "code",
   "execution_count": 13,
   "outputs": [],
   "source": [
    "title_list=[]\n",
    "url_list=[]\n",
    "price_list=[]"
   ],
   "metadata": {
    "collapsed": false,
    "ExecuteTime": {
     "end_time": "2023-11-14T08:43:09.137163400Z",
     "start_time": "2023-11-14T08:43:09.130171600Z"
    }
   },
   "id": "e2967eb194f21010"
  },
  {
   "cell_type": "code",
   "execution_count": 14,
   "outputs": [
    {
     "name": "stdout",
     "output_type": "stream",
     "text": [
      "1  start\n"
     ]
    },
    {
     "ename": "AttributeError",
     "evalue": "'NoneType' object has no attribute 'startswith'",
     "output_type": "error",
     "traceback": [
      "\u001B[1;31m---------------------------------------------------------------------------\u001B[0m",
      "\u001B[1;31mAttributeError\u001B[0m                            Traceback (most recent call last)",
      "Cell \u001B[1;32mIn[14], line 1\u001B[0m\n\u001B[1;32m----> 1\u001B[0m \u001B[43mcrawl\u001B[49m\u001B[43m(\u001B[49m\u001B[38;5;241;43m1\u001B[39;49m\u001B[43m)\u001B[49m \n",
      "Cell \u001B[1;32mIn[12], line 22\u001B[0m, in \u001B[0;36mcrawl\u001B[1;34m(start)\u001B[0m\n\u001B[0;32m     19\u001B[0m     goods_soup \u001B[38;5;241m=\u001B[39m BeautifulSoup(goods_response\u001B[38;5;241m.\u001B[39mtext, \u001B[38;5;124m'\u001B[39m\u001B[38;5;124mlxml\u001B[39m\u001B[38;5;124m'\u001B[39m)\n\u001B[0;32m     21\u001B[0m     \u001B[38;5;66;03m# 상세 페이지 분류 시작\u001B[39;00m\n\u001B[1;32m---> 22\u001B[0m     \u001B[43morigin_run\u001B[49m\u001B[43m(\u001B[49m\u001B[43mgoods_soup\u001B[49m\u001B[43m,\u001B[49m\u001B[43mimg\u001B[49m\u001B[43m)\u001B[49m\n\u001B[0;32m     24\u001B[0m \u001B[38;5;28;01mreturn\u001B[39;00m\n",
      "Cell \u001B[1;32mIn[11], line 18\u001B[0m, in \u001B[0;36morigin_run\u001B[1;34m(goods_soup, img)\u001B[0m\n\u001B[0;32m     16\u001B[0m \u001B[38;5;66;03m# 이미지 URL 추출\u001B[39;00m\n\u001B[0;32m     17\u001B[0m image_src \u001B[38;5;241m=\u001B[39m img\u001B[38;5;241m.\u001B[39mget(\u001B[38;5;124m'\u001B[39m\u001B[38;5;124msrc\u001B[39m\u001B[38;5;124m'\u001B[39m)\n\u001B[1;32m---> 18\u001B[0m \u001B[38;5;28;01mif\u001B[39;00m \u001B[38;5;129;01mnot\u001B[39;00m \u001B[43mimage_src\u001B[49m\u001B[38;5;241;43m.\u001B[39;49m\u001B[43mstartswith\u001B[49m(\u001B[38;5;124m'\u001B[39m\u001B[38;5;124mhttp:\u001B[39m\u001B[38;5;124m'\u001B[39m):\n\u001B[0;32m     19\u001B[0m     image_src \u001B[38;5;241m=\u001B[39m \u001B[38;5;124m'\u001B[39m\u001B[38;5;124mhttps:\u001B[39m\u001B[38;5;124m'\u001B[39m \u001B[38;5;241m+\u001B[39m image_src\n\u001B[0;32m     21\u001B[0m \u001B[38;5;66;03m# 이미지 다운로드\u001B[39;00m\n",
      "\u001B[1;31mAttributeError\u001B[0m: 'NoneType' object has no attribute 'startswith'"
     ]
    }
   ],
   "source": [
    "crawl(1) "
   ],
   "metadata": {
    "collapsed": false,
    "ExecuteTime": {
     "end_time": "2023-11-14T08:43:11.170704500Z",
     "start_time": "2023-11-14T08:43:10.133233600Z"
    }
   },
   "id": "92511d9c955433b7"
  },
  {
   "cell_type": "code",
   "execution_count": 7,
   "outputs": [
    {
     "name": "stdout",
     "output_type": "stream",
     "text": [
      "1  start\n"
     ]
    },
    {
     "ename": "UnidentifiedImageError",
     "evalue": "cannot identify image file <_io.BytesIO object at 0x000001532A7B24D0>",
     "output_type": "error",
     "traceback": [
      "\u001B[1;31m---------------------------------------------------------------------------\u001B[0m",
      "\u001B[1;31mUnidentifiedImageError\u001B[0m                    Traceback (most recent call last)",
      "Cell \u001B[1;32mIn[7], line 2\u001B[0m\n\u001B[0;32m      1\u001B[0m \u001B[38;5;28;01mfor\u001B[39;00m start \u001B[38;5;129;01min\u001B[39;00m \u001B[38;5;28mrange\u001B[39m(\u001B[38;5;241m1\u001B[39m,\u001B[38;5;241m20\u001B[39m):\n\u001B[1;32m----> 2\u001B[0m     \u001B[43mcrawl\u001B[49m\u001B[43m(\u001B[49m\u001B[43mstart\u001B[49m\u001B[43m)\u001B[49m \n",
      "Cell \u001B[1;32mIn[3], line 22\u001B[0m, in \u001B[0;36mcrawl\u001B[1;34m(start)\u001B[0m\n\u001B[0;32m     19\u001B[0m     goods_soup \u001B[38;5;241m=\u001B[39m BeautifulSoup(goods_response\u001B[38;5;241m.\u001B[39mtext, \u001B[38;5;124m'\u001B[39m\u001B[38;5;124mlxml\u001B[39m\u001B[38;5;124m'\u001B[39m)\n\u001B[0;32m     21\u001B[0m     \u001B[38;5;66;03m# 상세 페이지 분류 시작\u001B[39;00m\n\u001B[1;32m---> 22\u001B[0m     \u001B[43morigin_run\u001B[49m\u001B[43m(\u001B[49m\u001B[43mgoods_soup\u001B[49m\u001B[43m,\u001B[49m\u001B[43mimg\u001B[49m\u001B[43m)\u001B[49m\n\u001B[0;32m     24\u001B[0m \u001B[38;5;28;01mreturn\u001B[39;00m\n",
      "Cell \u001B[1;32mIn[6], line 23\u001B[0m, in \u001B[0;36morigin_run\u001B[1;34m(goods_soup, img)\u001B[0m\n\u001B[0;32m     21\u001B[0m \u001B[38;5;66;03m# 이미지 다운로드\u001B[39;00m\n\u001B[0;32m     22\u001B[0m image_response \u001B[38;5;241m=\u001B[39m requests\u001B[38;5;241m.\u001B[39mget(image_url)\n\u001B[1;32m---> 23\u001B[0m image \u001B[38;5;241m=\u001B[39m \u001B[43mImage\u001B[49m\u001B[38;5;241;43m.\u001B[39;49m\u001B[43mopen\u001B[49m\u001B[43m(\u001B[49m\u001B[43mBytesIO\u001B[49m\u001B[43m(\u001B[49m\u001B[43mimage_response\u001B[49m\u001B[38;5;241;43m.\u001B[39;49m\u001B[43mcontent\u001B[49m\u001B[43m)\u001B[49m\u001B[43m)\u001B[49m\n\u001B[0;32m     24\u001B[0m display(image)\n\u001B[0;32m     25\u001B[0m \u001B[38;5;66;03m# 이미지 잘 찍히는지 확인하고\u001B[39;00m\n\u001B[0;32m     26\u001B[0m \n\u001B[0;32m     27\u001B[0m \n\u001B[1;32m   (...)\u001B[0m\n\u001B[0;32m     30\u001B[0m \n\u001B[0;32m     31\u001B[0m \u001B[38;5;66;03m# txt-> 전체 저장소에 임베딩 faiss\u001B[39;00m\n",
      "File \u001B[1;32mC:\\dev\\S09P31A604\\Crawling\\img-crawling\\venv\\lib\\site-packages\\PIL\\Image.py:3305\u001B[0m, in \u001B[0;36mopen\u001B[1;34m(fp, mode, formats)\u001B[0m\n\u001B[0;32m   3303\u001B[0m     warnings\u001B[38;5;241m.\u001B[39mwarn(message)\n\u001B[0;32m   3304\u001B[0m msg \u001B[38;5;241m=\u001B[39m \u001B[38;5;124m\"\u001B[39m\u001B[38;5;124mcannot identify image file \u001B[39m\u001B[38;5;132;01m%r\u001B[39;00m\u001B[38;5;124m\"\u001B[39m \u001B[38;5;241m%\u001B[39m (filename \u001B[38;5;28;01mif\u001B[39;00m filename \u001B[38;5;28;01melse\u001B[39;00m fp)\n\u001B[1;32m-> 3305\u001B[0m \u001B[38;5;28;01mraise\u001B[39;00m UnidentifiedImageError(msg)\n",
      "\u001B[1;31mUnidentifiedImageError\u001B[0m: cannot identify image file <_io.BytesIO object at 0x000001532A7B24D0>"
     ]
    }
   ],
   "source": [
    "for start in range(1,20):\n",
    "    crawl(start) "
   ],
   "metadata": {
    "collapsed": false,
    "ExecuteTime": {
     "end_time": "2023-11-14T08:11:16.852199400Z",
     "start_time": "2023-11-14T08:11:15.455653500Z"
    }
   },
   "id": "f4fa96fe2e7e7909"
  },
  {
   "cell_type": "code",
   "execution_count": null,
   "outputs": [],
   "source": [
    "df = pd.DataFrame({'상품명': title_list, 'url': url_list, '가격': price_list})\n",
    "df.to_csv('무신사.csv', encoding='utf-8-sig')"
   ],
   "metadata": {
    "collapsed": false
   },
   "id": "3d2634f257e9bdf9"
  }
 ],
 "metadata": {
  "kernelspec": {
   "display_name": "Python 3",
   "language": "python",
   "name": "python3"
  },
  "language_info": {
   "codemirror_mode": {
    "name": "ipython",
    "version": 2
   },
   "file_extension": ".py",
   "mimetype": "text/x-python",
   "name": "python",
   "nbconvert_exporter": "python",
   "pygments_lexer": "ipython2",
   "version": "2.7.6"
  }
 },
 "nbformat": 4,
 "nbformat_minor": 5
}
