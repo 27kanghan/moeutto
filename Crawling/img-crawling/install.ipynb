{
 "cells": [
  {
   "cell_type": "markdown",
   "source": [
    "## Install fashin-clip\n",
    "### 본 프로젝트에서는 fashion-clip의 image encoder을 사용하므로 해당 모듈을 설치해야 합니다.\n",
    "- reference : https://github.com/patrickjohncyh/fashion-clip"
   ],
   "metadata": {
    "collapsed": false
   },
   "id": "b9a15361a5a1e929"
  },
  {
   "cell_type": "code",
   "execution_count": null,
   "outputs": [],
   "source": [
    "!pip install gdown\n",
    "!gdown \"1igAuIEW_4h_51BG1o05WS0Q0-Cp17_-t&confirm=t\"\n",
    "!unzip data"
   ],
   "metadata": {
    "collapsed": false
   },
   "id": "4c62c75bca90d237"
  },
  {
   "cell_type": "code",
   "execution_count": null,
   "outputs": [],
   "source": [
    "!pip install -U fashion-clip"
   ],
   "metadata": {
    "collapsed": false
   },
   "id": "9c93df4095cf00a2"
  }
 ],
 "metadata": {
  "kernelspec": {
   "display_name": "Python 3",
   "language": "python",
   "name": "python3"
  },
  "language_info": {
   "codemirror_mode": {
    "name": "ipython",
    "version": 2
   },
   "file_extension": ".py",
   "mimetype": "text/x-python",
   "name": "python",
   "nbconvert_exporter": "python",
   "pygments_lexer": "ipython2",
   "version": "2.7.6"
  }
 },
 "nbformat": 4,
 "nbformat_minor": 5
}
